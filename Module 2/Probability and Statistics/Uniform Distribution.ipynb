{
 "cells": [
  {
   "cell_type": "markdown",
   "metadata": {
    "colab_type": "text",
    "id": "VkOOg33M2iJp"
   },
   "source": [
    "# Random Number Generator (Uniform Distribution)\n"
   ]
  },
  {
   "cell_type": "code",
   "execution_count": 14,
   "metadata": {
    "colab": {
     "base_uri": "https://localhost:8080/",
     "height": 34
    },
    "colab_type": "code",
    "executionInfo": {
     "elapsed": 3924,
     "status": "ok",
     "timestamp": 1582698917852,
     "user": {
      "displayName": "Applied AI Course",
      "photoUrl": "https://lh3.googleusercontent.com/a-/AAuE7mC6pMrRYsn22C9tuTEP5-bjFj-F25a3idPwqTuaHQ=s64",
      "userId": "06629147635963609455"
     },
     "user_tz": -330
    },
    "id": "0rPnWXup2iJq",
    "outputId": "ad59b204-4111-436a-8cfe-94bb4b21524e"
   },
   "outputs": [
    {
     "name": "stdout",
     "output_type": "stream",
     "text": [
      "0.5628602631117536\n"
     ]
    }
   ],
   "source": [
    "import random\n",
    "print(random.random())"
   ]
  },
  {
   "cell_type": "code",
   "execution_count": 15,
   "metadata": {
    "colab": {
     "base_uri": "https://localhost:8080/",
     "height": 34
    },
    "colab_type": "code",
    "executionInfo": {
     "elapsed": 1267,
     "status": "ok",
     "timestamp": 1582698942492,
     "user": {
      "displayName": "Applied AI Course",
      "photoUrl": "https://lh3.googleusercontent.com/a-/AAuE7mC6pMrRYsn22C9tuTEP5-bjFj-F25a3idPwqTuaHQ=s64",
      "userId": "06629147635963609455"
     },
     "user_tz": -330
    },
    "id": "QPzivAyl2iJw",
    "outputId": "c022453d-2864-4b77-dc0a-ac1a50e4dda8"
   },
   "outputs": [
    {
     "name": "stdout",
     "output_type": "stream",
     "text": [
      "[5.1 3.5 1.4 0.2]\n"
     ]
    }
   ],
   "source": [
    "#load IRIS dataset with 150 points.\n",
    "from sklearn import datasets\n",
    "iris = datasets.load_iris()\n",
    "d = iris.data\n",
    "d.shape\n",
    "print(d[0])"
   ]
  },
  {
   "cell_type": "code",
   "execution_count": 20,
   "metadata": {
    "colab": {
     "base_uri": "https://localhost:8080/",
     "height": 71
    },
    "colab_type": "code",
    "executionInfo": {
     "elapsed": 3881,
     "status": "ok",
     "timestamp": 1582698917861,
     "user": {
      "displayName": "Applied AI Course",
      "photoUrl": "https://lh3.googleusercontent.com/a-/AAuE7mC6pMrRYsn22C9tuTEP5-bjFj-F25a3idPwqTuaHQ=s64",
      "userId": "06629147635963609455"
     },
     "user_tz": -330
    },
    "id": "ZRP6Getl2iJz",
    "outputId": "6adaa48f-20ba-43df-f834-7064cf8ebb4a"
   },
   "outputs": [
    {
     "name": "stdout",
     "output_type": "stream",
     "text": [
      "25\n",
      "\n",
      "\n",
      "[array([4.6, 3.4, 1.4, 0.3]), array([4.8, 3. , 1.4, 0.1]), array([4.7, 3.2, 1.6, 0.2]), array([5.1, 3.4, 1.5, 0.2]), array([5. , 3.5, 1.3, 0.3]), array([5.1, 3.8, 1.6, 0.2]), array([5.3, 3.7, 1.5, 0.2]), array([5.2, 2.7, 3.9, 1.4]), array([5.9, 3. , 4.2, 1.5]), array([6. , 2.2, 4. , 1. ]), array([6.7, 3.1, 4.4, 1.4]), array([6.4, 2.9, 4.3, 1.3]), array([6. , 2.9, 4.5, 1.5]), array([5.4, 3. , 4.5, 1.5]), array([5.5, 2.5, 4. , 1.3]), array([5. , 2.3, 3.3, 1. ]), array([7.1, 3. , 5.9, 2.1]), array([6.3, 2.9, 5.6, 1.8]), array([7.6, 3. , 6.6, 2.1]), array([6.7, 2.5, 5.8, 1.8]), array([6.5, 3. , 5.5, 1.8]), array([7.7, 3.8, 6.7, 2.2]), array([6.4, 3.1, 5.5, 1.8]), array([6.9, 3.1, 5.1, 2.3]), array([6.7, 3. , 5.2, 2.3])]\n"
     ]
    }
   ],
   "source": [
    "# Sample 30 points randomly from the 150 point dataset\n",
    "n=150\n",
    "m=30\n",
    "p = m/n\n",
    "#print(p)\n",
    "sampled_data =[];\n",
    "\n",
    "for i in range(0,n):\n",
    "    a = random.random()\n",
    "#  print(a)\n",
    "    if  a <= p:\n",
    "        sampled_data.append(d[i,:])\n",
    "print(len(sampled_data))  \n",
    "print(\"\\n\")\n",
    "print(sampled_data)"
   ]
  },
  {
   "cell_type": "code",
   "execution_count": null,
   "metadata": {},
   "outputs": [],
   "source": []
  }
 ],
 "metadata": {
  "colab": {
   "name": "12.11.ipynb",
   "provenance": []
  },
  "kernelspec": {
   "display_name": "Python 3",
   "language": "python",
   "name": "python3"
  },
  "language_info": {
   "codemirror_mode": {
    "name": "ipython",
    "version": 3
   },
   "file_extension": ".py",
   "mimetype": "text/x-python",
   "name": "python",
   "nbconvert_exporter": "python",
   "pygments_lexer": "ipython3",
   "version": "3.7.3"
  }
 },
 "nbformat": 4,
 "nbformat_minor": 1
}
